{
 "cells": [
  {
   "cell_type": "code",
   "execution_count": null,
   "id": "d165e369-b080-405f-bcf3-7b7fcd9a8ed4",
   "metadata": {},
   "outputs": [],
   "source": [
    "import tensorflow as tf\n",
    "\n",
    "# callback function to stop training after passing 95% accuracy\n",
    "class callback_fn(tf.keras.callbacks.Callback):\n",
    "    # must use `on_epoch_end` or Keras will not recognize it\n",
    "    def on_epoch_end(self, epoch, logs = {}):\n",
    "        if (logs.get('accuracy') > 0.95):\n",
    "            print(\"\\nReached 95% accuracy, cancelling training.\")\n",
    "            self.model.stop_training = True\n",
    "callbacks = callback_fn()\n",
    "\n",
    "# import the Fashion MNIST dataset\n",
    "mnist = tf.keras.datasets.fashion_mnist\n",
    "\n",
    "# prepare training and testing datasets\n",
    "(training_images, training_labels), (test_images, test_labels) = mnist.load_data()\n",
    "\n",
    "# normalize images\n",
    "training_images = training_images / 255.0\n",
    "test_images = test_images / 255.0\n",
    "\n",
    "model = tf.keras.models.Sequential([\n",
    "    tf.keras.layers.Flatten(),\n",
    "    tf.keras.layers.Dense(128, activation = tf.nn.relu),\n",
    "    tf.keras.layers.Dense(10, activation = tf.nn.softmax) # 10 image categories (answers)\n",
    "])\n",
    "\n",
    "model.compile(optimizer = 'adam',\n",
    "             loss = 'sparse_categorical_crossentropy',\n",
    "             metrics = ['accuracy'])\n",
    "\n",
    "model.fit(training_images, training_labels, epochs = 50, callbacks = [callbacks])"
   ]
  }
 ],
 "metadata": {
  "kernelspec": {
   "display_name": "Python 3 (ipykernel)",
   "language": "python",
   "name": "python3"
  },
  "language_info": {
   "codemirror_mode": {
    "name": "ipython",
    "version": 3
   },
   "file_extension": ".py",
   "mimetype": "text/x-python",
   "name": "python",
   "nbconvert_exporter": "python",
   "pygments_lexer": "ipython3",
   "version": "3.12.4"
  }
 },
 "nbformat": 4,
 "nbformat_minor": 5
}
