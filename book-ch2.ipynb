{
 "cells": [
  {
   "cell_type": "code",
   "execution_count": null,
   "id": "d165e369-b080-405f-bcf3-7b7fcd9a8ed4",
   "metadata": {},
   "outputs": [],
   "source": [
    "import tensorflow as tf\n",
    "\n",
    "# callback function to stop training after passing 95% accuracy\n",
    "class callback_fn(tf.keras.callbacks.Callback):\n",
    "    # must use `on_epoch_end` or Keras will not recognize it\n",
    "    # `self` refers to the instance of the class; a reference to the current object\n",
    "    # a dictionary containing the logs from the current epoch; default value is empty, {}\n",
    "    def on_epoch_end(self, epoch, logs = {}):\n",
    "        # retrieves the value associated with the key `accuracy` from the `logs` dictionary.\n",
    "        if (logs.get('accuracy') > 0.95):\n",
    "            print(\"\\nReached 95% accuracy, cancelling training.\")\n",
    "            # `self.model` references the model being trained\n",
    "            self.model.stop_training = True\n",
    "callbacks = callback_fn()\n",
    "\n",
    "# import the Fashion MNIST dataset\n",
    "mnist = tf.keras.datasets.fashion_mnist\n",
    "\n",
    "# prepare training and testing datasets (tuple unpacking)\n",
    "\n",
    "# In Python, you can assign multiple variables at once by unpacking values from sequences like tuples or lists.\n",
    "# This feature allows you to extract individual elements from a sequence and assign them to variables in a single statement.\n",
    "\n",
    "# Since `mnist.load_data()` naturally returns data in a nested tuple format, unpacking aligns with how the data is structured.\n",
    "(training_images, training_labels), (test_images, test_labels) = mnist.load_data()\n",
    "\n",
    "# normalize images; scales the pixel values to be between 0 and 1\n",
    "training_images = training_images / 255.0\n",
    "test_images = test_images / 255.0\n",
    "\n",
    "model = tf.keras.models.Sequential([\n",
    "    tf.keras.layers.Flatten(),\n",
    "    tf.keras.layers.Dense(128, activation = tf.nn.relu),\n",
    "    tf.keras.layers.Dense(10, activation = tf.nn.softmax) # 10 image categories (outputs)\n",
    "])\n",
    "\n",
    "# configure the model for training\n",
    "model.compile(optimizer = 'adam', # an efficient stochastic optimization algorithm that adjusts learning rates during training\n",
    "             loss = 'sparse_categorical_crossentropy',\n",
    "                # used when you have integer labels for multi-class classification\n",
    "                # computes the cross-entropy loss between the labels and predictions\n",
    "             metrics = ['accuracy'])\n",
    "\n",
    "# train the model; fit the model to the training data\n",
    "model.fit(training_images, training_labels, epochs = 50, callbacks = [callbacks])"
   ]
  }
 ],
 "metadata": {
  "kernelspec": {
   "display_name": "Python 3 (ipykernel)",
   "language": "python",
   "name": "python3"
  },
  "language_info": {
   "codemirror_mode": {
    "name": "ipython",
    "version": 3
   },
   "file_extension": ".py",
   "mimetype": "text/x-python",
   "name": "python",
   "nbconvert_exporter": "python",
   "pygments_lexer": "ipython3",
   "version": "3.12.4"
  }
 },
 "nbformat": 4,
 "nbformat_minor": 5
}
